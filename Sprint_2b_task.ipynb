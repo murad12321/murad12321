{
  "nbformat": 4,
  "nbformat_minor": 0,
  "metadata": {
    "colab": {
      "provenance": [],
      "authorship_tag": "ABX9TyNER/cOEXQ+RpYFauATa3Vm",
      "include_colab_link": true
    },
    "kernelspec": {
      "name": "python3",
      "display_name": "Python 3"
    },
    "language_info": {
      "name": "python"
    }
  },
  "cells": [
    {
      "cell_type": "markdown",
      "metadata": {
        "id": "view-in-github",
        "colab_type": "text"
      },
      "source": [
        "<a href=\"https://colab.research.google.com/github/murad12321/murad12321/blob/main/Sprint_2b_task.ipynb\" target=\"_parent\"><img src=\"https://colab.research.google.com/assets/colab-badge.svg\" alt=\"Open In Colab\"/></a>"
      ]
    },
    {
      "cell_type": "code",
      "execution_count": 10,
      "metadata": {
        "id": "lm--Egkf5HcY"
      },
      "outputs": [],
      "source": [
        "#Sprint_2b_task 1 ci sual\n",
        "#1\n",
        "import pandas as pd\n",
        "s1 = pd.Series([10, 20, 30, 40])"
      ]
    },
    {
      "cell_type": "code",
      "source": [
        "#Sprint_2b_task 2 ci sual\n",
        "#2\n",
        "s1.index = ['w', 'x', 'y', 'z']\n",
        "print(\"s1:\\n\", s1)"
      ],
      "metadata": {
        "id": "yYWl9_he6OU5",
        "colab": {
          "base_uri": "https://localhost:8080/"
        },
        "outputId": "71cd7b65-13d7-43a3-9c95-6852f6835ba3"
      },
      "execution_count": 11,
      "outputs": [
        {
          "output_type": "stream",
          "name": "stdout",
          "text": [
            "s1:\n",
            " w    10\n",
            "x    20\n",
            "y    30\n",
            "z    40\n",
            "dtype: int64\n"
          ]
        }
      ]
    },
    {
      "cell_type": "code",
      "source": [
        "#Sprint_2b_task 3 ci sual\n",
        "#3\n",
        "s2 = pd.Series({'p': 5, 'q': 10, 'r': 15})\n",
        "print(\"s2:\\n\", s2)"
      ],
      "metadata": {
        "colab": {
          "base_uri": "https://localhost:8080/"
        },
        "id": "0QNDK6E-8pDj",
        "outputId": "6ef5c070-f764-4e97-eb04-e0b9f515bb37"
      },
      "execution_count": 12,
      "outputs": [
        {
          "output_type": "stream",
          "name": "stdout",
          "text": [
            "s2:\n",
            " p     5\n",
            "q    10\n",
            "r    15\n",
            "dtype: int64\n"
          ]
        }
      ]
    },
    {
      "cell_type": "code",
      "source": [
        "#Sprint_2b_task 4 ci sual\n",
        "#4\n",
        "print(\"s2['q']:\", s2['q'])"
      ],
      "metadata": {
        "colab": {
          "base_uri": "https://localhost:8080/"
        },
        "id": "EIfzeKX78vDS",
        "outputId": "d8135c9a-0981-4ec6-9289-db3eedabeb6b"
      },
      "execution_count": 13,
      "outputs": [
        {
          "output_type": "stream",
          "name": "stdout",
          "text": [
            "s2['q']: 10\n"
          ]
        }
      ]
    },
    {
      "cell_type": "code",
      "source": [
        "# 5\n",
        "print(\"s1 > 25:\\n\", s1[s1 > 25])"
      ],
      "metadata": {
        "colab": {
          "base_uri": "https://localhost:8080/"
        },
        "id": "qo_9-P8U80Kq",
        "outputId": "b9a815b9-7daf-46f1-fe65-68ab7148e4d4"
      },
      "execution_count": 14,
      "outputs": [
        {
          "output_type": "stream",
          "name": "stdout",
          "text": [
            "s1 > 25:\n",
            " y    30\n",
            "z    40\n",
            "dtype: int64\n"
          ]
        }
      ]
    },
    {
      "cell_type": "code",
      "source": [
        "# 6\n",
        "print(\"s1 > 20 böl 10:\\n\", s1[s1 > 20] / 10)"
      ],
      "metadata": {
        "colab": {
          "base_uri": "https://localhost:8080/"
        },
        "id": "wx5eToZ_9TXr",
        "outputId": "29abc3dc-ea75-4d07-c716-fe5f95c7b166"
      },
      "execution_count": 15,
      "outputs": [
        {
          "output_type": "stream",
          "name": "stdout",
          "text": [
            "s1 > 20 böl 10:\n",
            " y    3.0\n",
            "z    4.0\n",
            "dtype: float64\n"
          ]
        }
      ]
    },
    {
      "cell_type": "code",
      "source": [
        "# 7\n",
        "df1 = pd.DataFrame([(1, 2), (3, 4)])"
      ],
      "metadata": {
        "id": "nLDQY-TH9WkC"
      },
      "execution_count": 16,
      "outputs": []
    },
    {
      "cell_type": "code",
      "source": [
        "# 8\n",
        "df1.index = ['r1', 'r2']\n",
        "df1.columns = ['c1', 'c2']\n",
        "print(\"df1:\\n\", df1)"
      ],
      "metadata": {
        "colab": {
          "base_uri": "https://localhost:8080/"
        },
        "id": "GCDPyz5A9fpy",
        "outputId": "16342145-d660-4e76-a86a-64d004f7d2cf"
      },
      "execution_count": 17,
      "outputs": [
        {
          "output_type": "stream",
          "name": "stdout",
          "text": [
            "df1:\n",
            "     c1  c2\n",
            "r1   1   2\n",
            "r2   3   4\n"
          ]
        }
      ]
    },
    {
      "cell_type": "code",
      "source": [
        "# 9\n",
        "df2 = pd.DataFrame({'A': [1, 2], 'B': [3, 4]})\n",
        "print(\"df2:\\n\", df2)"
      ],
      "metadata": {
        "colab": {
          "base_uri": "https://localhost:8080/"
        },
        "id": "UFXcEoIP9jcW",
        "outputId": "3fe7b0d6-a83a-4f60-9945-59185d52beec"
      },
      "execution_count": 18,
      "outputs": [
        {
          "output_type": "stream",
          "name": "stdout",
          "text": [
            "df2:\n",
            "    A  B\n",
            "0  1  3\n",
            "1  2  4\n"
          ]
        }
      ]
    },
    {
      "cell_type": "code",
      "source": [
        "# 10\n",
        "print(\"A > 1 olan sətrlər:\\n\", df2[df2['A'] > 1])"
      ],
      "metadata": {
        "colab": {
          "base_uri": "https://localhost:8080/"
        },
        "id": "El4-khIE9mgz",
        "outputId": "7a866b31-028a-4333-d5d8-86f65a88abf9"
      },
      "execution_count": 19,
      "outputs": [
        {
          "output_type": "stream",
          "name": "stdout",
          "text": [
            "A > 1 olan sətrlər:\n",
            "    A  B\n",
            "1  2  4\n"
          ]
        }
      ]
    },
    {
      "cell_type": "code",
      "source": [],
      "metadata": {
        "id": "F0myoxrh9pUi"
      },
      "execution_count": null,
      "outputs": []
    }
  ]
}