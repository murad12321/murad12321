{
  "nbformat": 4,
  "nbformat_minor": 0,
  "metadata": {
    "colab": {
      "provenance": [],
      "authorship_tag": "ABX9TyNbLTpFwO3Xugq4EAMhKc1+",
      "include_colab_link": true
    },
    "kernelspec": {
      "name": "python3",
      "display_name": "Python 3"
    },
    "language_info": {
      "name": "python"
    }
  },
  "cells": [
    {
      "cell_type": "markdown",
      "metadata": {
        "id": "view-in-github",
        "colab_type": "text"
      },
      "source": [
        "<a href=\"https://colab.research.google.com/github/murad12321/murad12321/blob/main/Sprint_1a_task.ipynb\" target=\"_parent\"><img src=\"https://colab.research.google.com/assets/colab-badge.svg\" alt=\"Open In Colab\"/></a>"
      ]
    },
    {
      "cell_type": "code",
      "execution_count": null,
      "metadata": {
        "id": "jO7Aczgmrs1i"
      },
      "outputs": [],
      "source": []
    },
    {
      "cell_type": "code",
      "execution_count": null,
      "metadata": {
        "colab": {
          "base_uri": "https://localhost:8080/"
        },
        "id": "rLZVRQaKpFiB",
        "outputId": "689858ad-df9e-442d-9196-16145882a945"
      },
      "outputs": [
        {
          "output_type": "stream",
          "name": "stdout",
          "text": [
            "123 <class 'str'>\n"
          ]
        }
      ],
      "source": [
        "#Sprint_1a_task 1 cu suali\n",
        "num = 123\n",
        "str_num = str(num)\n",
        "print(str_num, type(str_num))"
      ]
    },
    {
      "cell_type": "code",
      "source": [
        "#Sprint_1a_task 2 cu suali\n",
        "val = 19.99\n",
        "int_val = int(val)\n",
        "print(int_val)"
      ],
      "metadata": {
        "colab": {
          "base_uri": "https://localhost:8080/"
        },
        "id": "0S25_msVr5Ps",
        "outputId": "8e0cbd2d-def4-4059-fdfe-b52e11da4690"
      },
      "execution_count": null,
      "outputs": [
        {
          "output_type": "stream",
          "name": "stdout",
          "text": [
            "19\n"
          ]
        }
      ]
    },
    {
      "cell_type": "code",
      "source": [
        "#Sprint_1a_task 3 cu suali\n",
        "num_str = \"500\"\n",
        "num_int = int(num_str)\n",
        "print(num_int / 2)"
      ],
      "metadata": {
        "colab": {
          "base_uri": "https://localhost:8080/"
        },
        "id": "U4clf2tSsKHU",
        "outputId": "913be791-6a1d-4f6a-a6dc-812a220147c4"
      },
      "execution_count": null,
      "outputs": [
        {
          "output_type": "stream",
          "name": "stdout",
          "text": [
            "250.0\n"
          ]
        }
      ]
    },
    {
      "cell_type": "code",
      "source": [
        "#Sprint_1a_task 4 cu suali\n",
        "a, b = 8, 12\n",
        "print(a < b, a == b)"
      ],
      "metadata": {
        "colab": {
          "base_uri": "https://localhost:8080/"
        },
        "id": "sthS86LQsRiZ",
        "outputId": "60f15e9a-35ea-4fa2-d4f3-e9f8a987c98c"
      },
      "execution_count": null,
      "outputs": [
        {
          "output_type": "stream",
          "name": "stdout",
          "text": [
            "True False\n"
          ]
        }
      ]
    },
    {
      "cell_type": "code",
      "source": [
        "#Sprint_1a_task 5 cu suali\n",
        "x, y, z = 5, 10, 15\n",
        "print((x < y) and (y < z))"
      ],
      "metadata": {
        "colab": {
          "base_uri": "https://localhost:8080/"
        },
        "id": "_TOC4fKwsWaR",
        "outputId": "1b396bb5-67ee-4073-f635-b19d9d85a76c"
      },
      "execution_count": null,
      "outputs": [
        {
          "output_type": "stream",
          "name": "stdout",
          "text": [
            "True\n"
          ]
        }
      ]
    },
    {
      "cell_type": "code",
      "source": [
        "#Sprint_1a_task 6 cu suali\n",
        "print(25 // 4, 25 % 4, 25 / 4)"
      ],
      "metadata": {
        "colab": {
          "base_uri": "https://localhost:8080/"
        },
        "id": "IAmanIGNsbPg",
        "outputId": "143e32f3-5dc2-4ca1-f75c-791ffb5142b3"
      },
      "execution_count": null,
      "outputs": [
        {
          "output_type": "stream",
          "name": "stdout",
          "text": [
            "6 1 6.25\n"
          ]
        }
      ]
    },
    {
      "cell_type": "code",
      "source": [
        "#Sprint_1a_task 7 cu suali\n",
        "print(3 ** 4)"
      ],
      "metadata": {
        "colab": {
          "base_uri": "https://localhost:8080/"
        },
        "id": "BCjKZg8Msh8C",
        "outputId": "71246457-5f91-43a5-f106-e033231fde45"
      },
      "execution_count": null,
      "outputs": [
        {
          "output_type": "stream",
          "name": "stdout",
          "text": [
            "81\n"
          ]
        }
      ]
    },
    {
      "cell_type": "code",
      "source": [
        "#Sprint_1a_task 8 cu suali\n",
        "qiymet = 75.5\n",
        "int_qiymet = int(qiymet)\n",
        "print(int_qiymet, type(int_qiymet))"
      ],
      "metadata": {
        "colab": {
          "base_uri": "https://localhost:8080/"
        },
        "id": "sduJrUZosmxJ",
        "outputId": "e5a57e86-aa4d-4855-a364-0dec9124ff55"
      },
      "execution_count": null,
      "outputs": [
        {
          "output_type": "stream",
          "name": "stdout",
          "text": [
            "75 <class 'int'>\n"
          ]
        }
      ]
    },
    {
      "cell_type": "code",
      "source": [
        "#Sprint_1a_task 9 cu suali\n",
        "n = 20\n",
        "print((n > 10) or (n < 5), (n > 15) and (n < 25))"
      ],
      "metadata": {
        "colab": {
          "base_uri": "https://localhost:8080/"
        },
        "id": "P93CqsqCsxFK",
        "outputId": "155b1303-8582-4dfd-a1a5-fb7b6368d507"
      },
      "execution_count": null,
      "outputs": [
        {
          "output_type": "stream",
          "name": "stdout",
          "text": [
            "True True\n"
          ]
        }
      ]
    },
    {
      "cell_type": "code",
      "source": [
        "#Sprint_1a_task 10 cu suali\n",
        "val = \"42.8\"\n",
        "float_val = float(val)\n",
        "print(float_val, type(float_val))\n",
        "int_val = int(float_val)\n",
        "print(int_val, type(int_val))"
      ],
      "metadata": {
        "colab": {
          "base_uri": "https://localhost:8080/"
        },
        "id": "gg-whi4Us2aS",
        "outputId": "24842e50-a5d9-4b1c-d516-63ecea790aa5"
      },
      "execution_count": null,
      "outputs": [
        {
          "output_type": "stream",
          "name": "stdout",
          "text": [
            "42.8 <class 'float'>\n",
            "42 <class 'int'>\n"
          ]
        }
      ]
    },
    {
      "cell_type": "code",
      "source": [],
      "metadata": {
        "id": "y2_3XCfks99J"
      },
      "execution_count": null,
      "outputs": []
    }
  ]
}