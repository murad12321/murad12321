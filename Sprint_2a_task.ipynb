{
  "nbformat": 4,
  "nbformat_minor": 0,
  "metadata": {
    "colab": {
      "provenance": [],
      "authorship_tag": "ABX9TyO3oZM9+krSQQSALwyzhHOg",
      "include_colab_link": true
    },
    "kernelspec": {
      "name": "python3",
      "display_name": "Python 3"
    },
    "language_info": {
      "name": "python"
    }
  },
  "cells": [
    {
      "cell_type": "markdown",
      "metadata": {
        "id": "view-in-github",
        "colab_type": "text"
      },
      "source": [
        "<a href=\"https://colab.research.google.com/github/murad12321/murad12321/blob/main/Sprint_2a_task.ipynb\" target=\"_parent\"><img src=\"https://colab.research.google.com/assets/colab-badge.svg\" alt=\"Open In Colab\"/></a>"
      ]
    },
    {
      "cell_type": "code",
      "execution_count": 1,
      "metadata": {
        "id": "-uu4eOdt0svO"
      },
      "outputs": [],
      "source": [
        "#Sprint_2a_task 1 ci sual\n",
        "# 1\n",
        "rəqəmlər = [5, 10, 15, 20]"
      ]
    },
    {
      "cell_type": "code",
      "source": [
        "#Sprint_2a_task 2 ci sual\n",
        "# 2\n",
        "print(len(rəqəmlər))  # Uzunluq"
      ],
      "metadata": {
        "colab": {
          "base_uri": "https://localhost:8080/"
        },
        "id": "xbWN9HfB1Hic",
        "outputId": "1ebfbaef-c7fe-4fcd-9282-5fd21c8165d7"
      },
      "execution_count": 2,
      "outputs": [
        {
          "output_type": "stream",
          "name": "stdout",
          "text": [
            "4\n"
          ]
        }
      ]
    },
    {
      "cell_type": "code",
      "source": [
        "#Sprint_2a_task 3 ci sual\n",
        "# 3\n",
        "rəqəmlər.append(25)\n",
        "print(rəqəmlər)\n"
      ],
      "metadata": {
        "colab": {
          "base_uri": "https://localhost:8080/"
        },
        "id": "vHVuUxRR1W0a",
        "outputId": "bb4d2c6c-fcfb-4841-ae6b-6c381d729ae6"
      },
      "execution_count": 3,
      "outputs": [
        {
          "output_type": "stream",
          "name": "stdout",
          "text": [
            "[5, 10, 15, 20, 25]\n"
          ]
        }
      ]
    },
    {
      "cell_type": "code",
      "source": [
        "#Sprint_2a_task 4 ci sual\n",
        "# 4\n",
        "rəqəmlər.insert(2, 12)\n",
        "print(rəqəmlər)"
      ],
      "metadata": {
        "colab": {
          "base_uri": "https://localhost:8080/"
        },
        "id": "Fd1BptNa1iHq",
        "outputId": "20968f16-9684-4fb3-8b84-f6a22114dcf3"
      },
      "execution_count": 4,
      "outputs": [
        {
          "output_type": "stream",
          "name": "stdout",
          "text": [
            "[5, 10, 12, 15, 20, 25]\n"
          ]
        }
      ]
    },
    {
      "cell_type": "code",
      "source": [
        "#Sprint_2a_task 5 ci sual\n",
        "# 5\n",
        "list1 = [1, 2, 3]\n",
        "list2 = [4, 5, 6]\n",
        "birlesmis = list1 + list2\n",
        "print(birlesmis)"
      ],
      "metadata": {
        "colab": {
          "base_uri": "https://localhost:8080/"
        },
        "id": "eKXEAiZw1tKi",
        "outputId": "1050b694-9662-4aef-c7ad-2d35c0f4dd02"
      },
      "execution_count": 5,
      "outputs": [
        {
          "output_type": "stream",
          "name": "stdout",
          "text": [
            "[1, 2, 3, 4, 5, 6]\n"
          ]
        }
      ]
    },
    {
      "cell_type": "code",
      "source": [
        "#Sprint_2a_task 6 ci sual\n",
        "# 6\n",
        "print(rəqəmlər[2:4])  # 2-ci və 3-cü elementlər"
      ],
      "metadata": {
        "colab": {
          "base_uri": "https://localhost:8080/"
        },
        "id": "a0K_hnxM2zQ8",
        "outputId": "e16a4bae-c08f-42e0-bde7-bf32a7a70e60"
      },
      "execution_count": 6,
      "outputs": [
        {
          "output_type": "stream",
          "name": "stdout",
          "text": [
            "[12, 15]\n"
          ]
        }
      ]
    },
    {
      "cell_type": "code",
      "source": [
        "#Sprint_2a_task 7 ci sual\n",
        "# 7\n",
        "rəqəmlər[0] = 50\n",
        "print(rəqəmlər)"
      ],
      "metadata": {
        "colab": {
          "base_uri": "https://localhost:8080/"
        },
        "id": "svu3EmLw3l8q",
        "outputId": "eeae5d56-516a-4d69-8710-c7f94c5b104b"
      },
      "execution_count": 7,
      "outputs": [
        {
          "output_type": "stream",
          "name": "stdout",
          "text": [
            "[50, 10, 12, 15, 20, 25]\n"
          ]
        }
      ]
    },
    {
      "cell_type": "code",
      "source": [
        "#Sprint_2a_task 8 ci sual\n",
        "# 8\n",
        "print(19 in rəqəmlər)  # 19 varmı?"
      ],
      "metadata": {
        "colab": {
          "base_uri": "https://localhost:8080/"
        },
        "id": "is7c66R63tew",
        "outputId": "651775b0-1cbd-4c78-94ce-ff61b07c0c0c"
      },
      "execution_count": 8,
      "outputs": [
        {
          "output_type": "stream",
          "name": "stdout",
          "text": [
            "False\n"
          ]
        }
      ]
    },
    {
      "cell_type": "code",
      "source": [
        "#Sprint_2a_task 9 ci sual\n",
        "# 9\n",
        "hərflər = [\"a\", \"b\", \"a\", \"c\"]\n",
        "print(hərflər.count(\"a\"))  # \"a\" neçə dəfədir?"
      ],
      "metadata": {
        "colab": {
          "base_uri": "https://localhost:8080/"
        },
        "id": "7cfL2O0I4AdK",
        "outputId": "f19f226c-cc37-4dcf-c750-c1bfadcb33f6"
      },
      "execution_count": 9,
      "outputs": [
        {
          "output_type": "stream",
          "name": "stdout",
          "text": [
            "2\n"
          ]
        }
      ]
    },
    {
      "cell_type": "code",
      "source": [
        "#Sprint_2a_task 10 ci sual\n",
        "# 10\n",
        "hərflər2 = [\"x\", \"y\", \"x\", \"z\"]\n",
        "hərflər2 = [i for i in hərflər2 if i != \"x\"]\n",
        "print(hərflər2)"
      ],
      "metadata": {
        "colab": {
          "base_uri": "https://localhost:8080/"
        },
        "id": "JWDqmW_74N0I",
        "outputId": "b7ab23a0-2481-4c8e-84cf-456214fca76d"
      },
      "execution_count": 10,
      "outputs": [
        {
          "output_type": "stream",
          "name": "stdout",
          "text": [
            "['y', 'z']\n"
          ]
        }
      ]
    },
    {
      "cell_type": "code",
      "source": [
        "#Sprint_2a_task 11 ci sual\n",
        "# 11\n",
        "ədədlər = [7, 2, 9, 1]\n",
        "ədədlər.sort(reverse=True)\n",
        "print(ədədlər)\n"
      ],
      "metadata": {
        "colab": {
          "base_uri": "https://localhost:8080/"
        },
        "id": "iD5z-63N4WVC",
        "outputId": "e2ee29e0-7c53-458f-8f70-71300b0ba180"
      },
      "execution_count": 11,
      "outputs": [
        {
          "output_type": "stream",
          "name": "stdout",
          "text": [
            "[9, 7, 2, 1]\n"
          ]
        }
      ]
    },
    {
      "cell_type": "code",
      "source": [
        "#Sprint_2a_task 12 ci sual\n",
        "# 12\n",
        "boyuk10 = [x for x in rəqəmlər if x > 10]\n",
        "print(boyuk10)"
      ],
      "metadata": {
        "colab": {
          "base_uri": "https://localhost:8080/"
        },
        "id": "camfPkiD4vTI",
        "outputId": "595ba6bb-4255-4a98-814e-7012f263bad3"
      },
      "execution_count": 12,
      "outputs": [
        {
          "output_type": "stream",
          "name": "stdout",
          "text": [
            "[50, 12, 15, 20, 25]\n"
          ]
        }
      ]
    },
    {
      "cell_type": "code",
      "source": [],
      "metadata": {
        "id": "87uyyVAr4zFC"
      },
      "execution_count": null,
      "outputs": []
    }
  ]
}