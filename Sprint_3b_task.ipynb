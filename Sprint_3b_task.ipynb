{
  "nbformat": 4,
  "nbformat_minor": 0,
  "metadata": {
    "colab": {
      "provenance": [],
      "authorship_tag": "ABX9TyN9XbgPeZuDA/64dUPqXAlW",
      "include_colab_link": true
    },
    "kernelspec": {
      "name": "python3",
      "display_name": "Python 3"
    },
    "language_info": {
      "name": "python"
    }
  },
  "cells": [
    {
      "cell_type": "markdown",
      "metadata": {
        "id": "view-in-github",
        "colab_type": "text"
      },
      "source": [
        "<a href=\"https://colab.research.google.com/github/murad12321/murad12321/blob/main/Sprint_3b_task.ipynb\" target=\"_parent\"><img src=\"https://colab.research.google.com/assets/colab-badge.svg\" alt=\"Open In Colab\"/></a>"
      ]
    },
    {
      "cell_type": "code",
      "execution_count": 1,
      "metadata": {
        "id": "OznC2SH2j2nk"
      },
      "outputs": [],
      "source": [
        "#Sprint_3b_task 1 ci sual\n",
        "# 1) salam funksiyası\n",
        "def salam():\n",
        "    print(\"Salam, Dünya!\")"
      ]
    },
    {
      "cell_type": "code",
      "source": [
        "#Sprint_3b_task 2 ci sual\n",
        "# 2) kub_hesabla funksiyası\n",
        "def kub_hesabla(n):\n",
        "    return n ** 3"
      ],
      "metadata": {
        "id": "-sUkHiOUkU9a"
      },
      "execution_count": 2,
      "outputs": []
    },
    {
      "cell_type": "code",
      "source": [
        "# 3) birlesdir funksiyası\n",
        "def birlesdir(soz1, soz2):\n",
        "    return f\"{soz1} {soz2}\""
      ],
      "metadata": {
        "id": "YBQKn56Xkd5Y"
      },
      "execution_count": 3,
      "outputs": []
    },
    {
      "cell_type": "code",
      "source": [
        "# 4) cap_et funksiyası\n",
        "def cap_et(liste):\n",
        "    for element in liste:\n",
        "        print(element)"
      ],
      "metadata": {
        "id": "mNMYf9ztks1I"
      },
      "execution_count": 4,
      "outputs": []
    },
    {
      "cell_type": "code",
      "source": [
        "# 5) toplam funksiyası\n",
        "def toplam(*args):\n",
        "    return sum(args)"
      ],
      "metadata": {
        "id": "lisIFjJpkxAw"
      },
      "execution_count": 5,
      "outputs": []
    },
    {
      "cell_type": "code",
      "source": [
        "# 6) ortalama funksiyası\n",
        "def ortalama(*args):\n",
        "    if args:\n",
        "        return sum(args) / len(args)\n",
        "    else:\n",
        "        return \"Rəqəm yoxdur\""
      ],
      "metadata": {
        "id": "MQOEcNRIk42Y"
      },
      "execution_count": 6,
      "outputs": []
    },
    {
      "cell_type": "code",
      "source": [
        "# 7) adlar_rəqəmlər funksiyası\n",
        "def adlar_rəqəmlər(**kwargs):\n",
        "    for ad, reqem in kwargs.items():\n",
        "        print(f\"ad: {ad}, rəqəm: {reqem}\")"
      ],
      "metadata": {
        "id": "pFFnVYF4k90o"
      },
      "execution_count": 7,
      "outputs": []
    },
    {
      "cell_type": "code",
      "source": [
        "# 8) tip_yoxla funksiyası\n",
        "def tip_yoxla(deyer):\n",
        "    if isinstance(deyer, str):\n",
        "        print(\"mətn\")\n",
        "    elif isinstance(deyer, (int, float)):\n",
        "        print(\"rəqəm\")\n",
        "    else:\n",
        "        print(\"başqa\")"
      ],
      "metadata": {
        "id": "P0YUyCndlAjQ"
      },
      "execution_count": 8,
      "outputs": []
    },
    {
      "cell_type": "code",
      "source": [
        "# 9) yas_kateqoriya funksiyası\n",
        "def yas_kateqoriya():\n",
        "    yas = int(input(\"Yaşınızı daxil edin: \"))\n",
        "    if yas < 18:\n",
        "        print(\"Gənc\")\n",
        "    else:\n",
        "        print(\"Yetkin\")"
      ],
      "metadata": {
        "id": "YRK9AgZalCso"
      },
      "execution_count": 9,
      "outputs": []
    },
    {
      "cell_type": "code",
      "source": [
        "# 10) soz_uzunluq funksiyası\n",
        "def soz_uzunluq():\n",
        "    soz = input(\"Bir söz daxil edin: \")\n",
        "    print(f\"Sözün uzunluğu: {len(soz)}\")"
      ],
      "metadata": {
        "id": "EVenqGyylE8v"
      },
      "execution_count": 10,
      "outputs": []
    },
    {
      "cell_type": "code",
      "source": [],
      "metadata": {
        "id": "zjLGV8frlHRo"
      },
      "execution_count": null,
      "outputs": []
    }
  ]
}