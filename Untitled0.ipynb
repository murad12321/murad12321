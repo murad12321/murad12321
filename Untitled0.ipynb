{
  "nbformat": 4,
  "nbformat_minor": 0,
  "metadata": {
    "colab": {
      "provenance": [],
      "authorship_tag": "ABX9TyPDa772JXNBRwOlcHtsOHv5",
      "include_colab_link": true
    },
    "kernelspec": {
      "name": "python3",
      "display_name": "Python 3"
    },
    "language_info": {
      "name": "python"
    }
  },
  "cells": [
    {
      "cell_type": "markdown",
      "metadata": {
        "id": "view-in-github",
        "colab_type": "text"
      },
      "source": [
        "<a href=\"https://colab.research.google.com/github/murad12321/murad12321/blob/main/Untitled0.ipynb\" target=\"_parent\"><img src=\"https://colab.research.google.com/assets/colab-badge.svg\" alt=\"Open In Colab\"/></a>"
      ]
    },
    {
      "cell_type": "code",
      "execution_count": null,
      "metadata": {
        "id": "eanxkzmdh34e"
      },
      "outputs": [],
      "source": []
    },
    {
      "cell_type": "code",
      "execution_count": 1,
      "metadata": {
        "colab": {
          "base_uri": "https://localhost:8080/"
        },
        "id": "04iPafUQeVmF",
        "outputId": "277c6575-63c3-4947-a50e-22cdee922da0"
      },
      "outputs": [
        {
          "output_type": "stream",
          "name": "stdout",
          "text": [
            "x daxil edin: 5\n",
            "müsbət\n"
          ]
        }
      ],
      "source": [
        "#Sprint_3a_task 1 ci suali\n",
        "# 1) x dəyişəni\n",
        "x = int(input(\"x daxil edin: \"))\n",
        "if x > 0:\n",
        "    print(\"müsbət\")\n",
        "elif x < 0:\n",
        "    print(\"mənfi\")\n",
        "else:\n",
        "    print(\"sıfır\")"
      ]
    },
    {
      "cell_type": "code",
      "source": [],
      "metadata": {
        "id": "YZ3EQSOLiDls"
      },
      "execution_count": null,
      "outputs": []
    },
    {
      "cell_type": "code",
      "source": [
        "#Sprint_3a_task 2 ci suali\n",
        "# 2) n rəqəmi\n",
        "n = int(input(\"n daxil edin: \"))\n",
        "if n % 2 == 0:\n",
        "    print(\"cüt\")\n",
        "else:\n",
        "    print(\"tək\")"
      ],
      "metadata": {
        "colab": {
          "base_uri": "https://localhost:8080/"
        },
        "id": "4p5JQ9cvfHi7",
        "outputId": "9d6b4c4c-22cb-4199-fb4b-0d91a063a3b0"
      },
      "execution_count": 2,
      "outputs": [
        {
          "output_type": "stream",
          "name": "stdout",
          "text": [
            "n daxil edin: 6\n",
            "cüt\n"
          ]
        }
      ]
    },
    {
      "cell_type": "code",
      "source": [],
      "metadata": {
        "id": "RlObDQzbiKZ6"
      },
      "execution_count": null,
      "outputs": []
    },
    {
      "cell_type": "code",
      "source": [
        "#Sprint_3a_task 3 ci suali\n",
        "# 3) a, b, c rəqəmləri\n",
        "a = int(input(\"a daxil edin: \"))\n",
        "b = int(input(\"b daxil edin: \"))\n",
        "c = int(input(\"c daxil edin: \"))\n",
        "print(\"Ən böyük:\", max(a, b, c))"
      ],
      "metadata": {
        "colab": {
          "base_uri": "https://localhost:8080/"
        },
        "id": "1QpLBgU3fXPE",
        "outputId": "079dc74a-4367-47a7-f02f-597eba514d2e"
      },
      "execution_count": 3,
      "outputs": [
        {
          "output_type": "stream",
          "name": "stdout",
          "text": [
            "a daxil edin: 2\n",
            "b daxil edin: 3\n",
            "c daxil edin: 4\n",
            "Ən böyük: 4\n"
          ]
        }
      ]
    },
    {
      "cell_type": "code",
      "source": [],
      "metadata": {
        "id": "FIrdRpbniOxJ"
      },
      "execution_count": null,
      "outputs": []
    },
    {
      "cell_type": "code",
      "source": [
        "#Sprint_3a_task 4 ci suali\n",
        "# 4) day dəyişəni\n",
        "day = int(input(\"1-7 arası gün nömrəsini daxil edin: \"))\n",
        "if day == 1:\n",
        "    print(\"Bazar ertəsi\")\n",
        "elif day == 2:\n",
        "    print(\"Çərşənbə axşamı\")\n",
        "elif day == 3:\n",
        "    print(\"Çərşənbə\")\n",
        "elif day == 4:\n",
        "    print(\"Cümə axşamı\")\n",
        "elif day == 5:\n",
        "    print(\"Cümə\")\n",
        "elif day == 6:\n",
        "    print(\"Şənbə\")\n",
        "elif day == 7:\n",
        "    print(\"Bazar\")\n",
        "else:\n",
        "    print(\"Yanlış gün\")"
      ],
      "metadata": {
        "colab": {
          "base_uri": "https://localhost:8080/"
        },
        "id": "NlWoktmjfj4h",
        "outputId": "6cbd100c-fdc4-4aa6-d9c0-6aaee66490d0"
      },
      "execution_count": 4,
      "outputs": [
        {
          "output_type": "stream",
          "name": "stdout",
          "text": [
            "1-7 arası gün nömrəsini daxil edin: 3\n",
            "Çərşənbə\n"
          ]
        }
      ]
    },
    {
      "cell_type": "code",
      "source": [],
      "metadata": {
        "id": "zZwy98GjiTAo"
      },
      "execution_count": 4,
      "outputs": []
    },
    {
      "cell_type": "code",
      "source": [
        "#Sprint_3a_task 5 ci suali\n",
        "# 5) temp dəyişəni\n",
        "temp = int(input(\"Temperaturu daxil edin: \"))\n",
        "if temp < 0:\n",
        "    print(\"soyuq\")\n",
        "elif 0 <= temp <= 20:\n",
        "    print(\"normal\")\n",
        "else:\n",
        "    print(\"isti\")"
      ],
      "metadata": {
        "colab": {
          "base_uri": "https://localhost:8080/"
        },
        "id": "ivxjO5j_fui7",
        "outputId": "3b2d61af-80d3-4fd1-f1b2-a91465740d57"
      },
      "execution_count": 5,
      "outputs": [
        {
          "output_type": "stream",
          "name": "stdout",
          "text": [
            "Temperaturu daxil edin: 4\n",
            "normal\n"
          ]
        }
      ]
    },
    {
      "cell_type": "code",
      "source": [],
      "metadata": {
        "id": "ufhchHNPiXu5"
      },
      "execution_count": null,
      "outputs": []
    },
    {
      "cell_type": "code",
      "source": [
        "#Sprint_3a_task 6 ci suali\n",
        "# 6) password stringi\n",
        "password = input(\"Şifrəni daxil edin: \")\n",
        "if len(password) < 8:\n",
        "    print(\"qısa\")\n",
        "elif 8 <= len(password) <= 12:\n",
        "    print(\"orta\")\n",
        "else:\n",
        "    print(\"uzun\")"
      ],
      "metadata": {
        "colab": {
          "base_uri": "https://localhost:8080/"
        },
        "id": "RhxVJe-Zf55Z",
        "outputId": "9e33aef8-f5d5-4773-f2bf-d03e5bddd28d"
      },
      "execution_count": 6,
      "outputs": [
        {
          "output_type": "stream",
          "name": "stdout",
          "text": [
            "Şifrəni daxil edin: 324\n",
            "qısa\n"
          ]
        }
      ]
    },
    {
      "cell_type": "code",
      "source": [],
      "metadata": {
        "id": "Uek-IsooibvY"
      },
      "execution_count": null,
      "outputs": []
    },
    {
      "cell_type": "code",
      "source": [
        "#Sprint_3a_task 7 ci suali\n",
        "# 7) x rəqəmi (3 və 5 bölünmə yoxlanışı)\n",
        "x = int(input(\"x daxil edin (3 və 5 bölünmə üçün): \"))\n",
        "if x % 3 == 0 and x % 5 == 0:\n",
        "    print(\"3 və 5\")\n",
        "elif x % 3 == 0:\n",
        "    print(\"3\")\n",
        "elif x % 5 == 0:\n",
        "    print(\"5\")\n",
        "else:\n",
        "    print(\"heç biri\")"
      ],
      "metadata": {
        "colab": {
          "base_uri": "https://localhost:8080/"
        },
        "id": "AqivIIMigFGp",
        "outputId": "69f6f140-de7c-46c3-efd2-67c201de53bd"
      },
      "execution_count": 7,
      "outputs": [
        {
          "output_type": "stream",
          "name": "stdout",
          "text": [
            "x daxil edin (3 və 5 bölünmə üçün): 45\n",
            "3 və 5\n"
          ]
        }
      ]
    },
    {
      "cell_type": "code",
      "source": [],
      "metadata": {
        "id": "AAyLXNklifg4"
      },
      "execution_count": null,
      "outputs": []
    },
    {
      "cell_type": "code",
      "source": [
        "# 8) 0-dan 20-yə qədər cüt ədədlər\n",
        "for i in range(0, 21):\n",
        "    if i % 2 == 0:\n",
        "        print(i, end=\" \")\n",
        "print()"
      ],
      "metadata": {
        "colab": {
          "base_uri": "https://localhost:8080/"
        },
        "id": "muoPMS69gR9Z",
        "outputId": "eda8eceb-6e2d-4677-b046-d3d13892f573"
      },
      "execution_count": 8,
      "outputs": [
        {
          "output_type": "stream",
          "name": "stdout",
          "text": [
            "0 2 4 6 8 10 12 14 16 18 20 \n"
          ]
        }
      ]
    },
    {
      "cell_type": "code",
      "source": [],
      "metadata": {
        "id": "ZkW5OpS6ijvh"
      },
      "execution_count": null,
      "outputs": []
    },
    {
      "cell_type": "code",
      "source": [
        "# 9) \"Bağda ərik var idi …\" stringinin hər elementini çap etmək\n",
        "text = \"Bağda ərik var idi …\"\n",
        "for char in text:\n",
        "    print(char)"
      ],
      "metadata": {
        "colab": {
          "base_uri": "https://localhost:8080/"
        },
        "id": "s-6aUgHJgYCx",
        "outputId": "035cfa16-b94b-4c0f-d25a-a559d49a8c00"
      },
      "execution_count": 9,
      "outputs": [
        {
          "output_type": "stream",
          "name": "stdout",
          "text": [
            "B\n",
            "a\n",
            "ğ\n",
            "d\n",
            "a\n",
            " \n",
            "ə\n",
            "r\n",
            "i\n",
            "k\n",
            " \n",
            "v\n",
            "a\n",
            "r\n",
            " \n",
            "i\n",
            "d\n",
            "i\n",
            " \n",
            "…\n"
          ]
        }
      ]
    },
    {
      "cell_type": "code",
      "source": [],
      "metadata": {
        "id": "c7Mu2g--iluo"
      },
      "execution_count": null,
      "outputs": []
    },
    {
      "cell_type": "code",
      "source": [
        "#Sprint_3a_task 10 ci suali\n",
        "# 10) 1-dən 10-a qədər rəqəmləri çap et, amma 3 xaric\n",
        "for i in range(1, 11):\n",
        "    if i == 3:\n",
        "        continue\n",
        "    print(i)"
      ],
      "metadata": {
        "colab": {
          "base_uri": "https://localhost:8080/"
        },
        "id": "ifh57klngbuB",
        "outputId": "7d4cc860-3a70-4075-de8f-f2548df08a64"
      },
      "execution_count": 10,
      "outputs": [
        {
          "output_type": "stream",
          "name": "stdout",
          "text": [
            "1\n",
            "2\n",
            "4\n",
            "5\n",
            "6\n",
            "7\n",
            "8\n",
            "9\n",
            "10\n"
          ]
        }
      ]
    },
    {
      "cell_type": "code",
      "source": [],
      "metadata": {
        "id": "Qe7H-JRcinog"
      },
      "execution_count": null,
      "outputs": []
    },
    {
      "cell_type": "code",
      "source": [
        "# 11) 1-dən başlayaraq ilk 5-ə bölünən rəqəmi while ilə tap\n",
        "i = 1\n",
        "while True:\n",
        "    if i % 5 == 0:\n",
        "        print(\"İlk 5-ə bölünən rəqəm:\", i)\n",
        "        break\n",
        "    i += 1"
      ],
      "metadata": {
        "colab": {
          "base_uri": "https://localhost:8080/"
        },
        "id": "dq06y-Crgib6",
        "outputId": "3a4c30e9-2383-43c5-b018-b2ee92ce0fde"
      },
      "execution_count": 11,
      "outputs": [
        {
          "output_type": "stream",
          "name": "stdout",
          "text": [
            "İlk 5-ə bölünən rəqəm: 5\n"
          ]
        }
      ]
    },
    {
      "cell_type": "code",
      "source": [],
      "metadata": {
        "id": "oYWlbFhKip2A"
      },
      "execution_count": null,
      "outputs": []
    },
    {
      "cell_type": "code",
      "source": [
        "# 12) (1, 3, 5, 7, 9) listində 5-in indeksini tap\n",
        "nums = [1, 3, 5, 7, 9]\n",
        "for index, num in enumerate(nums):\n",
        "    if num == 5:\n",
        "        print(\"5-in indeksi:\", index)\n",
        "        break"
      ],
      "metadata": {
        "colab": {
          "base_uri": "https://localhost:8080/"
        },
        "id": "LYmOcbssglTB",
        "outputId": "d30336d9-caf7-4732-c13f-883c8362ff19"
      },
      "execution_count": 12,
      "outputs": [
        {
          "output_type": "stream",
          "name": "stdout",
          "text": [
            "5-in indeksi: 2\n"
          ]
        }
      ]
    },
    {
      "cell_type": "code",
      "source": [],
      "metadata": {
        "id": "8kJ6MfHhirxI"
      },
      "execution_count": null,
      "outputs": []
    }
  ]
}