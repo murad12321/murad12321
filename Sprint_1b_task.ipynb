{
  "nbformat": 4,
  "nbformat_minor": 0,
  "metadata": {
    "colab": {
      "provenance": [],
      "authorship_tag": "ABX9TyO4831ogd0YIyxmRUzjqryE",
      "include_colab_link": true
    },
    "kernelspec": {
      "name": "python3",
      "display_name": "Python 3"
    },
    "language_info": {
      "name": "python"
    }
  },
  "cells": [
    {
      "cell_type": "markdown",
      "metadata": {
        "id": "view-in-github",
        "colab_type": "text"
      },
      "source": [
        "<a href=\"https://colab.research.google.com/github/murad12321/murad12321/blob/main/Sprint_1b_task.ipynb\" target=\"_parent\"><img src=\"https://colab.research.google.com/assets/colab-badge.svg\" alt=\"Open In Colab\"/></a>"
      ]
    },
    {
      "cell_type": "code",
      "execution_count": 1,
      "metadata": {
        "colab": {
          "base_uri": "https://localhost:8080/"
        },
        "id": "NE4L7q2nwoZ3",
        "outputId": "d2445d86-edb3-4b7e-845a-d492f6b36fe1"
      },
      "outputs": [
        {
          "output_type": "stream",
          "name": "stdout",
          "text": [
            "11\n",
            "P\n"
          ]
        }
      ],
      "source": [
        "#Sprint_1b_task 1 ci sual\n",
        "s = \"Programming\"\n",
        "print(len(s))        # Uzunluğu\n",
        "print(s[0])          # İlk simvol"
      ]
    },
    {
      "cell_type": "code",
      "source": [
        "#Sprint_1b_task 2 ci sual\n",
        "s1 = \"Hello\"\n",
        "s2 = \"World\"\n",
        "print(s1 + \" \" + s2)  # Boşluqla birləşdirmə"
      ],
      "metadata": {
        "colab": {
          "base_uri": "https://localhost:8080/"
        },
        "id": "e6A5R8H-yRx8",
        "outputId": "a552c2df-bd97-41bf-e4ec-e43329280917"
      },
      "execution_count": 2,
      "outputs": [
        {
          "output_type": "stream",
          "name": "stdout",
          "text": [
            "Hello World\n"
          ]
        }
      ]
    },
    {
      "cell_type": "code",
      "source": [
        "#Sprint_1b_task 3 ci sual\n",
        "text = \"Python\"\n",
        "print(text[-1])       # Son simvol"
      ],
      "metadata": {
        "colab": {
          "base_uri": "https://localhost:8080/"
        },
        "id": "mJhNapQGywmD",
        "outputId": "31421498-45de-4e5e-ef94-e2c5f7f2b3e4"
      },
      "execution_count": 3,
      "outputs": [
        {
          "output_type": "stream",
          "name": "stdout",
          "text": [
            "n\n"
          ]
        }
      ]
    },
    {
      "cell_type": "code",
      "source": [
        "#Sprint_1b_task 4 ci sual\n",
        "s = \"Artificial\"\n",
        "print(s[3:])          # \"Art\" hissəsini çıxarma"
      ],
      "metadata": {
        "colab": {
          "base_uri": "https://localhost:8080/"
        },
        "id": "rtfqoCagy7Aq",
        "outputId": "90e0ac92-b883-4071-865d-b4c06729d532"
      },
      "execution_count": 4,
      "outputs": [
        {
          "output_type": "stream",
          "name": "stdout",
          "text": [
            "ificial\n"
          ]
        }
      ]
    },
    {
      "cell_type": "code",
      "source": [
        "#Sprint_1b_task 5 ci sual\n",
        "word = \"Code\"\n",
        "print(word[::-1])     # Tərsinə çevrilmiş"
      ],
      "metadata": {
        "colab": {
          "base_uri": "https://localhost:8080/"
        },
        "id": "9K_FvK0szN7Y",
        "outputId": "9a13a8de-919d-433c-a95c-df9e1d723d8d"
      },
      "execution_count": 5,
      "outputs": [
        {
          "output_type": "stream",
          "name": "stdout",
          "text": [
            "edoC\n"
          ]
        }
      ]
    },
    {
      "cell_type": "code",
      "source": [
        "#Sprint_1b_task 6 ci sual\n",
        "s = \"abcdefgh\"\n",
        "print(s[::2])         # Hər ikinci simvol"
      ],
      "metadata": {
        "colab": {
          "base_uri": "https://localhost:8080/"
        },
        "id": "w9XSrQcyzaby",
        "outputId": "52a3ebe6-e57a-45e9-aaf4-f16216691dc5"
      },
      "execution_count": 6,
      "outputs": [
        {
          "output_type": "stream",
          "name": "stdout",
          "text": [
            "aceg\n"
          ]
        }
      ]
    },
    {
      "cell_type": "code",
      "source": [
        "#Sprint_1b_task 7 ci sual\n",
        "text = \"data\"\n",
        "print(text.upper(), text.lower())  # Böyük və kiçik hərflərə çevirilmiş"
      ],
      "metadata": {
        "colab": {
          "base_uri": "https://localhost:8080/"
        },
        "id": "A_q3U5t_zhGx",
        "outputId": "b545b061-1054-4978-ddb1-7f0f4a4f112d"
      },
      "execution_count": 7,
      "outputs": [
        {
          "output_type": "stream",
          "name": "stdout",
          "text": [
            "DATA data\n"
          ]
        }
      ]
    },
    {
      "cell_type": "code",
      "source": [
        "#Sprint_1b_task 8 ci sual\n",
        "s = \"Python-R-Java\"\n",
        "print(s.split(\"-\"))   # \"-\" ilə ayırmaq"
      ],
      "metadata": {
        "colab": {
          "base_uri": "https://localhost:8080/"
        },
        "id": "XD-BmZDdzq4y",
        "outputId": "b2cab8e7-92a4-40ff-a529-7fedb5e1e89b"
      },
      "execution_count": 8,
      "outputs": [
        {
          "output_type": "stream",
          "name": "stdout",
          "text": [
            "['Python', 'R', 'Java']\n"
          ]
        }
      ]
    },
    {
      "cell_type": "code",
      "source": [
        "#Sprint_1b_task 9 ci sual\n",
        "ad = \"Ayxan\"\n",
        "yaş = 25\n",
        "print(f\"{ad} {yaş} yaşındadır\")  # f-string istifadə"
      ],
      "metadata": {
        "colab": {
          "base_uri": "https://localhost:8080/"
        },
        "id": "mhq48erlzy2D",
        "outputId": "c92aee79-3689-488e-9e5e-7395a7c3b02f"
      },
      "execution_count": 9,
      "outputs": [
        {
          "output_type": "stream",
          "name": "stdout",
          "text": [
            "Ayxan 25 yaşındadır\n"
          ]
        }
      ]
    },
    {
      "cell_type": "code",
      "source": [
        "#Sprint_1b_task 10 ci sual\n",
        "s = \"salam-dunya\"\n",
        "print(s.replace(\"-\", \" \"))  # \"-\"ni boşluqla əvəz etmək"
      ],
      "metadata": {
        "colab": {
          "base_uri": "https://localhost:8080/"
        },
        "id": "LvBz_Uayz_Vy",
        "outputId": "abbec551-bcc9-4b06-d30b-0c47e3992d22"
      },
      "execution_count": 10,
      "outputs": [
        {
          "output_type": "stream",
          "name": "stdout",
          "text": [
            "salam dunya\n"
          ]
        }
      ]
    },
    {
      "cell_type": "code",
      "source": [],
      "metadata": {
        "id": "FQ8XD6mI0HWy"
      },
      "execution_count": null,
      "outputs": []
    }
  ]
}